{
 "cells": [
  {
   "cell_type": "code",
   "execution_count": 13,
   "metadata": {},
   "outputs": [],
   "source": [
    "from transformers import AutoModelForCausalLM, AutoTokenizer\n",
    "checkpoint = \"HuggingFaceTB/SmolLM2-1.7B-Instruct\"\n",
    "\n",
    "device = \"cpu\" \n",
    "tokenizer = AutoTokenizer.from_pretrained(checkpoint)\n",
    "model = AutoModelForCausalLM.from_pretrained(checkpoint).to(device)"
   ]
  },
  {
   "cell_type": "code",
   "execution_count": 14,
   "metadata": {},
   "outputs": [],
   "source": [
    "prompt = \"Explain how the following drugs interact: Aspirin, Ibuprofen, and Vicodin\""
   ]
  },
  {
   "cell_type": "code",
   "execution_count": 17,
   "metadata": {},
   "outputs": [],
   "source": [
    "messages = [{\"role\": \"user\", \"content\": prompt}]\n",
    "input_text=tokenizer.apply_chat_template(messages, tokenize=False)\n",
    "inputs = tokenizer.encode(input_text, return_tensors=\"pt\").to(device)"
   ]
  },
  {
   "cell_type": "code",
   "execution_count": 18,
   "metadata": {},
   "outputs": [
    {
     "name": "stdout",
     "output_type": "stream",
     "text": [
      "<|im_start|>system\n",
      "You are a helpful AI assistant named SmolLM, trained by Hugging Face<|im_end|>\n",
      "<|im_start|>user\n",
      "Explain how the following drugs interact: Aspirin, Ibuprofen, and Vicodin<|im_end|>\n",
      "<|im_start|>assistant\n",
      "Aspirin, Ibuprofen, and Vicodin are all medications used to treat different health conditions. Here's how they interact with each other:\n",
      "\n",
      "1. Aspirin and Ibuprofen: These two drugs are both nonsteroidal anti-inflammatory drugs (NSAIDs). They work by blocking the production of certain enzymes in the body that cause inflammation. When taken together, they can increase the risk of stomach bleeding. This is because both drugs can irritate the stomach lining, leading to ulcers and bleeding. Therefore, it's generally recommended to take them separately.\n",
      "\n",
      "2. Aspirin and Vicodin: Aspirin is an anticoagulant, which means it helps prevent blood clots from forming. Vicodin, on the other hand, is a narcotic pain reliever. When taken together, they can increase the risk of bleeding. This is because the anticoagulant effect of aspirin can counteract the effect of the narcotic, potentially leading to bleeding.\n",
      "\n",
      "3. Ibuprofen and Vicodin: Ibuprofen is also an anticoagulant, similar to aspirin. When taken with Vicodin, they can increase the risk of bleeding. However, the risk is generally lower than when aspirin and Vicodin are taken together.\n",
      "\n",
      "It's important to note that these interactions can vary depending on the individual's health status, the dosage of each drug, and the duration of use. Always consult with a healthcare provider before starting any new medication regimen.<|im_end|>\n"
     ]
    }
   ],
   "source": [
    "outputs = model.generate(inputs, max_new_tokens=500, temperature=0.2, top_p=0.9, do_sample=True)\n",
    "print(tokenizer.decode(outputs[0]))"
   ]
  },
  {
   "cell_type": "code",
   "execution_count": null,
   "metadata": {},
   "outputs": [],
   "source": []
  }
 ],
 "metadata": {
  "kernelspec": {
   "display_name": "Python 3",
   "language": "python",
   "name": "python3"
  },
  "language_info": {
   "codemirror_mode": {
    "name": "ipython",
    "version": 3
   },
   "file_extension": ".py",
   "mimetype": "text/x-python",
   "name": "python",
   "nbconvert_exporter": "python",
   "pygments_lexer": "ipython3",
   "version": "3.11.9"
  }
 },
 "nbformat": 4,
 "nbformat_minor": 2
}
